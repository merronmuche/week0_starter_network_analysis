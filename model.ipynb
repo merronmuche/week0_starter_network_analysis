{
 "cells": [
  {
   "cell_type": "code",
   "execution_count": null,
   "id": "91a1e959-24b4-4de2-acad-330ce5d28d64",
   "metadata": {},
   "outputs": [],
   "source": [
    "\n",
    "from src.utils import slack_parser\n",
    "import pandas as pd\n",
    "from nltk.sentiment import SentimentIntensityAnalyzer\n",
    "from tqdm.notebook import tqdm\n",
    "\n"
   ]
  },
  {
   "cell_type": "code",
   "execution_count": null,
   "id": "8877cc81-9bcc-42cd-bc42-25c5d8ea7735",
   "metadata": {},
   "outputs": [],
   "source": [
    "sia = SentimentIntensityAnalyzer()\n",
    "\n",
    "path_channel = 'D:/tenacademy/codes/week0_starter_network_analysis/data/anonymized/all-week1/'\n",
    "df = slack_parser(path_channel)\n",
    "res = {}\n",
    "for i, row in tqdm(df.iterrows(), total=len(df)):\n",
    "    text = row['msg_content']\n",
    "    myid = row['sender_name']\n",
    "    res[myid] = sia.polarity_scores(text)\n",
    "    \n"
   ]
  },
  {
   "cell_type": "code",
   "execution_count": null,
   "id": "34e36b65-b6be-459b-b40b-cec869d3cc56",
   "metadata": {},
   "outputs": [],
   "source": [
    "vaders = pd.DataFrame(res).T\n",
    "vaders = vaders.reset_index().rename(columns={'sender_name': 'Id'})\n",
    "vaders = vaders.merge(df,left_on=None, right_on=None, left_index=False, right_index=False)\n",
    "print(vaders.head())\n"
   ]
  }
 ],
 "metadata": {
  "kernelspec": {
   "display_name": "Python 3 (ipykernel)",
   "language": "python",
   "name": "python3"
  },
  "language_info": {
   "codemirror_mode": {
    "name": "ipython",
    "version": 3
   },
   "file_extension": ".py",
   "mimetype": "text/x-python",
   "name": "python",
   "nbconvert_exporter": "python",
   "pygments_lexer": "ipython3",
   "version": "3.10.9"
  }
 },
 "nbformat": 4,
 "nbformat_minor": 5
}
